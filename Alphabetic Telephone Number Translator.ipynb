{
 "cells": [
  {
   "cell_type": "markdown",
   "id": "01fd14ff",
   "metadata": {},
   "source": [
    "Many companies use telephone numbers like 555-GET-FOOD so the number is easier for their\n",
    "customers to remember. On a standard telephone, the alphabetic letters are mapped to numbers\n",
    "in the following fashion:\n",
    "\n",
    "Letters         Number\n",
    "A, B, and C       2\n",
    "D, E, and F       3\n",
    "G, H, and I       4\n",
    "J, K, and L       5\n",
    "M, N, and O       6\n",
    "P, Q, R, and S    7\n",
    "T, U, and V       8\n",
    "W, X, Y, and Z    9\n",
    "\n",
    "Write a program that asks the user to enter a 10-character telephone number in the format XXX-\n",
    "XXX-XXXX. The application should display the telephone number with any alphabetic characters\n",
    "\n",
    "that appeared in the original translated to their numeric equivalent. For example, if the user enters\n",
    "555-GET-FOOD the application should display 555-438-3663."
   ]
  },
  {
   "cell_type": "code",
   "execution_count": 5,
   "id": "30a0588f",
   "metadata": {},
   "outputs": [
    {
     "name": "stdout",
     "output_type": "stream",
     "text": [
      "Enter Phone number in this format XXX-XXX-XXXX like 555-GET-FOOD : 555-PET-FOOD\n",
      "555-738-3663 "
     ]
    }
   ],
   "source": [
    "\n",
    "num_dic = {\n",
    "#capital alphabets code\n",
    "    'A' : '2' , 'B' : '2' , 'C' : '2',\n",
    "    'D' : '3' , 'E' : '3' , 'F' : '3',\n",
    "    'G' : '4' , 'H' : '4' , 'I' : '4',\n",
    "    'J' : '5' , 'K' : '5' , 'L' : '5',\n",
    "    'M' : '6' , 'N' : '6' , 'O' : '6',\n",
    "    'P' : '7' , 'Q' : '7' , 'R' : '7',\n",
    "    'S' : '7' ,\n",
    "    'T' : '8' , 'U' : '8' ,'V'  : '8',\n",
    "    'W' : '9' , 'X' : '9' ,\n",
    "    'Y' : '9' , 'Z' : '9' ,\n",
    "    '-' : '-'\n",
    "}\n",
    "\n",
    "\n",
    "phone_no = input(\"Enter Phone number in this format XXX-XXX-XXXX like 555-GET-FOOD : \")\n",
    "num = \"555\"\n",
    "\n",
    "while len(phone_no) != 12:\n",
    "    phone_no = input(\"Plz Enter Phone number in this format XXX-XXX-XXXX like 555-GET-FOOD : \") \n",
    "    for i in range(len(phone_no)-8 , len(phone_no)):\n",
    "        if phone_no[i].isdigit() == True:\n",
    "            phone_no = input(\"Wrong Enter Phone number in this format XXX-XXX-XXXX like 555-GET-FOOD : \")\n",
    "    \n",
    "for i in phone_no :\n",
    "    if i in num_dic :       \n",
    "        num = num + num_dic[i]      \n",
    "        \n",
    "print( num , end=' ')\n",
    "        "
   ]
  },
  {
   "cell_type": "code",
   "execution_count": 14,
   "id": "f28181b1",
   "metadata": {},
   "outputs": [
    {
     "name": "stdout",
     "output_type": "stream",
     "text": [
      "Enter the number in the format of 555-XXX-XXXX\n",
      "555-GET-FOOD\n",
      "555-GET-FOOD\n",
      "555-438-3663\n"
     ]
    }
   ],
   "source": [
    "phoneNum = input('Enter the number in the format of 555-XXX-XXXX\\n')\n",
    "print(phoneNum)\n",
    "newPhoneNumber = ''\n",
    "for char in phoneNum:\n",
    "    if char == 'A' or char == 'B' or char == 'C':\n",
    "        char = '2'\n",
    "    elif char == 'D' or char == 'E' or char == 'F':\n",
    "        char = '3'\n",
    "    elif char == 'G' or char == 'H' or char == 'I':\n",
    "        char = '4'\n",
    "    elif char == 'J' or char == 'K' or char == 'L':\n",
    "        char = '5'\n",
    "    elif char == 'M' or char == 'N' or char == 'O':\n",
    "        char = '6'\n",
    "    elif char == 'P' or char == 'Q' or char == 'R' or char == 'S':\n",
    "        char = '7'\n",
    "    elif char == 'T' or char == 'U' or char == 'V':\n",
    "        char = '8'\n",
    "    elif char == 'W' or char == 'X' or char == 'Y' or char == 'Z':\n",
    "        char = '9'\n",
    "    newPhoneNumber = newPhoneNumber + char\n",
    "\n",
    "print(newPhoneNumber)"
   ]
  },
  {
   "cell_type": "markdown",
   "id": "51aca195",
   "metadata": {},
   "source": []
  }
 ],
 "metadata": {
  "kernelspec": {
   "display_name": "Python 3",
   "language": "python",
   "name": "python3"
  },
  "language_info": {
   "codemirror_mode": {
    "name": "ipython",
    "version": 3
   },
   "file_extension": ".py",
   "mimetype": "text/x-python",
   "name": "python",
   "nbconvert_exporter": "python",
   "pygments_lexer": "ipython3",
   "version": "3.8.8"
  }
 },
 "nbformat": 4,
 "nbformat_minor": 5
}
