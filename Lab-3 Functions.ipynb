{
 "cells": [
  {
   "cell_type": "code",
   "execution_count": 6,
   "id": "4163e533",
   "metadata": {},
   "outputs": [
    {
     "name": "stdout",
     "output_type": "stream",
     "text": [
      "4\n",
      "70\n",
      "Welcome Sajjad , Lets code in Python \n"
     ]
    }
   ],
   "source": [
    "def area(a,b):\n",
    "    return a*b\n",
    "\n",
    "a=2\n",
    "b=35\n",
    "\n",
    "print(a**2)\n",
    "area = area(a,b)\n",
    "print(area)\n",
    "\n",
    "def greeting(name, message = \"Live long and prosper\"):\n",
    "    print(\"Welcome {} , {} \".format(name,message))\n",
    "\n",
    "greeting(\"Sajjad\",\"Lets code in Python\")\n",
    "\n",
    "\n",
    "\n",
    "\n",
    "\n"
   ]
  },
  {
   "cell_type": "code",
   "execution_count": 11,
   "id": "33993969",
   "metadata": {},
   "outputs": [
    {
     "name": "stdout",
     "output_type": "stream",
     "text": [
      "Dr. Sajjad ! How are u?\n"
     ]
    }
   ],
   "source": [
    "def greeting( name, title , prompt , message):\n",
    "    print(title, name ,  prompt , message)\n",
    "    \n",
    "greeting(name = \"Sajjad\" , title= \"Dr.\" , prompt = \"!\" , message = \"How are u?\" )    \n"
   ]
  },
  {
   "cell_type": "code",
   "execution_count": 23,
   "id": "15cec3ea",
   "metadata": {},
   "outputs": [
    {
     "name": "stdout",
     "output_type": "stream",
     "text": [
      "Not found\n"
     ]
    }
   ],
   "source": [
    "#String written in \" \" or ''\n",
    "#String is immunatable\n",
    "\n",
    "fullname = \"Abdur Rehman\"\n",
    "\n",
    "if 'H' in fullname :\n",
    "    print(\"found\")\n",
    "else:\n",
    "        print(\"Not found\")"
   ]
  }
 ],
 "metadata": {
  "kernelspec": {
   "display_name": "Python 3",
   "language": "python",
   "name": "python3"
  },
  "language_info": {
   "codemirror_mode": {
    "name": "ipython",
    "version": 3
   },
   "file_extension": ".py",
   "mimetype": "text/x-python",
   "name": "python",
   "nbconvert_exporter": "python",
   "pygments_lexer": "ipython3",
   "version": "3.8.8"
  }
 },
 "nbformat": 4,
 "nbformat_minor": 5
}
