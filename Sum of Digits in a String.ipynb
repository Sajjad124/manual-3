{
 "cells": [
  {
   "cell_type": "markdown",
   "id": "a18fae62",
   "metadata": {},
   "source": [
    "Write a program that asks the user to enter a series of single-digit numbers with nothing separating\n",
    "them. The program should display the sum of all the single digit numbers in the string. For\n",
    "example, if the user enters 2514, the method should return 12, which is the sum of 2, 5, 1, and 4."
   ]
  },
  {
   "cell_type": "code",
   "execution_count": 18,
   "id": "6c5d9e45",
   "metadata": {},
   "outputs": [
    {
     "name": "stdout",
     "output_type": "stream",
     "text": [
      "Enter number without space :45657\n",
      "Total sum of input num   45657  =  27\n"
     ]
    }
   ],
   "source": [
    "num = input(\"Enter number without space :\")\n",
    "sum = 0\n",
    "for i in num :\n",
    "    sum+= int (i)   # here we have parse i into integer\n",
    "print(\"Total sum of input num  \", num ,\" = \" ,sum )\n"
   ]
  },
  {
   "cell_type": "code",
   "execution_count": null,
   "id": "6290a190",
   "metadata": {},
   "outputs": [],
   "source": []
  }
 ],
 "metadata": {
  "kernelspec": {
   "display_name": "Python 3",
   "language": "python",
   "name": "python3"
  },
  "language_info": {
   "codemirror_mode": {
    "name": "ipython",
    "version": 3
   },
   "file_extension": ".py",
   "mimetype": "text/x-python",
   "name": "python",
   "nbconvert_exporter": "python",
   "pygments_lexer": "ipython3",
   "version": "3.8.8"
  }
 },
 "nbformat": 4,
 "nbformat_minor": 5
}
