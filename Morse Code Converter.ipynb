{
 "cells": [
  {
   "cell_type": "markdown",
   "id": "cf514786",
   "metadata": {},
   "source": [
    "Morse code is a code where each letter of the English alphabet, each digit, and various punctuation\n",
    "characters are represented by a series of dots and dashes. Table 8-4 shows part of the code. Write\n",
    "a program that asks the user to enter a string, and then converts that string to Morse code.\n",
    "Fig:4 Morse Code Table"
   ]
  },
  {
   "cell_type": "code",
   "execution_count": 4,
   "id": "013541db",
   "metadata": {},
   "outputs": [
    {
     "name": "stdout",
     "output_type": "stream",
     "text": [
      "Enter any sentence to make it morse code : GIft\n",
      "--. .. ..-. - "
     ]
    }
   ],
   "source": [
    "\n",
    "morse_dic = {\n",
    "#capital alphabets morse codes\n",
    "    'A' : '.-'  , 'B' : '-...', 'C' : '-.-.',\n",
    "    'D' : '-..' , 'E' : '.'   , 'F' : '..-.',\n",
    "    'G' : '--.' , 'H' : '....', 'I' : '..'  ,\n",
    "    'J' : '.---', 'K' : '-.-' , 'L' : '.-..',\n",
    "    'M' : '--'  , 'N' : '-.'  , 'O' : '---' ,\n",
    "    'P' : '.--.', 'Q' : '--.-', 'R' : '.-.' ,\n",
    "    'S' : '...' , 'T' : '-'   , 'U' : '..-' ,\n",
    "    'V' : '...-', 'W' : '.--' , 'X' : '-..-',\n",
    "    'Y' : '-.--', 'Z' : '--..',\n",
    "#small alphabets morse codes\n",
    "    'a' : '.-'  , 'b' : '-...', 'c' : '-.-.',\n",
    "    'd' : '-..' , 'e' : '.'   , 'f' : '..-.',\n",
    "    'g' : '--.' , 'h' : '....', 'i' : '..'  ,\n",
    "    'j' : '.---', 'k' : '-.-' , 'l' : '.-..',\n",
    "    'm' : '--'  , 'n' : '-.'  , 'o' : '---' ,\n",
    "    'p' : '.--.', 'q' : '--.-', 'r' : '.-.' ,\n",
    "    's' : '...' , 't' : '-'   , 'u' : '..-' ,\n",
    "    'v' : '...-', 'w' : '.--' , 'x' : '-..-',\n",
    "    'y' : '-.--', 'z' : '--..',\n",
    "#special char morse codes\n",
    "    ',' : '--..--',\n",
    "    '.' : '.-.-.-',\n",
    "    '?' : '..--..',\n",
    "    ';' : '-.--'  ,\n",
    "    ':' : '---..' ,\n",
    "    '-' : '-....-',\n",
    "    \"'\" : '.----.',\n",
    "    '(' : '-.--.' ,\n",
    "    ')' : '-.--.-',\n",
    "    '_' : '..--.-',\n",
    "    '@' : '.--.-.',\n",
    "    '!' : '-.-.--',\n",
    "    '&' : '.-...' ,\n",
    "    '=' : '-...-' ,\n",
    "    '+' : '.-.-.' ,\n",
    "    '\"' : '.-..-.',\n",
    "    '$' : '...-..-',\n",
    "    \n",
    "    \n",
    "    ' ' : '/',\n",
    "#number morse codes\n",
    "    '1' : '.----' , '2' : '..---' , '3' : '...--',\n",
    "    '4' : '....-' , '5' : '.....' , '6' : '....-',\n",
    "    '7' : '--...' , '8' : '---..' , '9' : '----.',\n",
    "    '0' : '-----'\n",
    "\n",
    "}\n",
    "word = input(\"Enter any sentence to make it morse code : \")\n",
    "for i in word :\n",
    "    if i in morse_dic :\n",
    "        print(eng_to_morse[i] , end=' ')\n",
    "    else:\n",
    "        print(\"Not in Morse code list\")\n",
    "\n",
    "\n",
    "\n",
    "\n",
    "\n",
    "\n"
   ]
  },
  {
   "cell_type": "code",
   "execution_count": null,
   "id": "ad14c18f",
   "metadata": {},
   "outputs": [],
   "source": []
  },
  {
   "cell_type": "code",
   "execution_count": null,
   "id": "25cbdfed",
   "metadata": {},
   "outputs": [],
   "source": []
  },
  {
   "cell_type": "code",
   "execution_count": null,
   "id": "8e1ac84a",
   "metadata": {},
   "outputs": [],
   "source": []
  },
  {
   "cell_type": "code",
   "execution_count": null,
   "id": "8631232d",
   "metadata": {},
   "outputs": [],
   "source": []
  }
 ],
 "metadata": {
  "kernelspec": {
   "display_name": "Python 3",
   "language": "python",
   "name": "python3"
  },
  "language_info": {
   "codemirror_mode": {
    "name": "ipython",
    "version": 3
   },
   "file_extension": ".py",
   "mimetype": "text/x-python",
   "name": "python",
   "nbconvert_exporter": "python",
   "pygments_lexer": "ipython3",
   "version": "3.8.8"
  }
 },
 "nbformat": 4,
 "nbformat_minor": 5
}
