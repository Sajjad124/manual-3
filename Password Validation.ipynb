{
 "cells": [
  {
   "cell_type": "markdown",
   "id": "19d380c3",
   "metadata": {},
   "source": [
    "Assume that you are writing a program for a local software house. It is a password checker program.\n",
    "Two Python built-in functions you’ll need are ord(character) and chr(asciiNumber). ord(character)\n",
    "takes a character and returns its ascii value. In opposite fashion, chr(asciiValue) takes an ascii\n",
    "value and returns a character mapped on that ascii value. Following is ascii chart.\n",
    "\n",
    "Fig:5 ASCII Code Table\n",
    "\n",
    "That particular software house sets the criteria of password as: A password is valid if and only\n",
    "if it has: * At least one lower case letter * At least one upper case letter * At least one special\n",
    "characters from the above given image. * At least one digit\n",
    "All other passwords are invalid. Use the functions described above to create this program.Summing\n",
    "up the program requirements:\n",
    "    \n",
    "1. takes input as password from user\n",
    "2. Apply the described tests\n",
    "3. And prints whether the password is valid or invalid."
   ]
  },
  {
   "cell_type": "code",
   "execution_count": 8,
   "id": "1a89bcdd",
   "metadata": {},
   "outputs": [
    {
     "name": "stdout",
     "output_type": "stream",
     "text": [
      "Password1234@34hA'(\n",
      "Valid Password\n"
     ]
    }
   ],
   "source": [
    "import re\n",
    "password = input(\"Enter Password 8 digit password with mixed alphabets and special char : \") \n",
    "flag = 0\n",
    "while True:  \n",
    "    if (len(password)<8):\n",
    "        flag = -1\n",
    "        break\n",
    "    elif not re.search(\"[a-z]\", password):\n",
    "        flag = -1\n",
    "        break\n",
    "    elif not re.search(\"[A-Z]\", password):\n",
    "        flag = -1\n",
    "        break\n",
    "    elif not re.search(\"[0-9]\", password):\n",
    "        flag = -1\n",
    "        break\n",
    "    elif not re.search(\"[_@$]\", password):\n",
    "        flag = -1\n",
    "        break\n",
    "    elif re.search(\"\\s\", password):\n",
    "        flag = -1\n",
    "        break\n",
    "    else:\n",
    "        flag = 0\n",
    "        print(\"Valid Password\")\n",
    "        break\n",
    "  \n",
    "if flag ==-1:\n",
    "    print(\"Not a Valid Password\")"
   ]
  },
  {
   "cell_type": "code",
   "execution_count": null,
   "id": "37ae3d05",
   "metadata": {},
   "outputs": [],
   "source": []
  }
 ],
 "metadata": {
  "kernelspec": {
   "display_name": "Python 3",
   "language": "python",
   "name": "python3"
  },
  "language_info": {
   "codemirror_mode": {
    "name": "ipython",
    "version": 3
   },
   "file_extension": ".py",
   "mimetype": "text/x-python",
   "name": "python",
   "nbconvert_exporter": "python",
   "pygments_lexer": "ipython3",
   "version": "3.8.8"
  }
 },
 "nbformat": 4,
 "nbformat_minor": 5
}
