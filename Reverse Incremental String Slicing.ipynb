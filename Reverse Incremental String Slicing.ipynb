{
 "cells": [
  {
   "cell_type": "markdown",
   "id": "65bba3aa",
   "metadata": {},
   "source": [
    "Sometimes, while working with Pythonn strings, we can have a problem in which we need to perform\n",
    "the slice and print of strings in reverse order. This can have application in day-day programming.\n",
    "So in this exercise write a program that reverse the string in incremental order.\n",
    "For Example:\n",
    "Orignal String : GIFT\n",
    "\n",
    "\n",
    "Incremental reverse strings: ['T','TF','TFI','TFIG']"
   ]
  },
  {
   "cell_type": "code",
   "execution_count": 1,
   "id": "5a77b60d",
   "metadata": {},
   "outputs": [
    {
     "name": "stdout",
     "output_type": "stream",
     "text": [
      "Enter any String : Gift\n",
      " t  tf  tfi  tfiG "
     ]
    }
   ],
   "source": [
    "word = input(\"Enter any String : \")\n",
    "size = len(word)-1\n",
    "str = \" \"\n",
    "\n",
    "for i in range(size+1):\n",
    "    str+=word[size-i]\n",
    "    print(str, end = \" \")\n",
    "\n",
    "\n",
    "\n",
    "    \n",
    "    \n"
   ]
  },
  {
   "cell_type": "code",
   "execution_count": null,
   "id": "9d1302e9",
   "metadata": {},
   "outputs": [],
   "source": []
  },
  {
   "cell_type": "code",
   "execution_count": null,
   "id": "c1500c69",
   "metadata": {},
   "outputs": [],
   "source": []
  }
 ],
 "metadata": {
  "kernelspec": {
   "display_name": "Python 3",
   "language": "python",
   "name": "python3"
  },
  "language_info": {
   "codemirror_mode": {
    "name": "ipython",
    "version": 3
   },
   "file_extension": ".py",
   "mimetype": "text/x-python",
   "name": "python",
   "nbconvert_exporter": "python",
   "pygments_lexer": "ipython3",
   "version": "3.8.8"
  }
 },
 "nbformat": 4,
 "nbformat_minor": 5
}
